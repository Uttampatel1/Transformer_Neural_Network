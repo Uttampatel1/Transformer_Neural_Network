{
 "cells": [
  {
   "cell_type": "markdown",
   "metadata": {},
   "source": [
    "### Multi Head Attention"
   ]
  },
  {
   "cell_type": "code",
   "execution_count": 14,
   "metadata": {},
   "outputs": [],
   "source": [
    "import numpy as np \n",
    "import pandas as pd \n",
    "import torch \n",
    "import torch.nn as nn\n",
    "import torch.nn.functional as F\n",
    "import math"
   ]
  },
  {
   "cell_type": "code",
   "execution_count": 2,
   "metadata": {},
   "outputs": [],
   "source": [
    "sequence_length = 4\n",
    "batch_size = 1\n",
    "input_dim = 512\n",
    "d_model = 512\n",
    "x = torch.randn((batch_size,sequence_length, input_dim))"
   ]
  },
  {
   "cell_type": "code",
   "execution_count": 5,
   "metadata": {},
   "outputs": [
    {
     "data": {
      "text/plain": [
       "torch.Size([1, 4, 512])"
      ]
     },
     "execution_count": 5,
     "metadata": {},
     "output_type": "execute_result"
    }
   ],
   "source": [
    "x.size()"
   ]
  },
  {
   "cell_type": "code",
   "execution_count": 7,
   "metadata": {},
   "outputs": [
    {
     "data": {
      "text/plain": [
       "torch.Size([1, 4, 1536])"
      ]
     },
     "execution_count": 7,
     "metadata": {},
     "output_type": "execute_result"
    }
   ],
   "source": [
    "qkv_layer = nn.Linear(input_dim,3 * d_model)\n",
    "qkv = qkv_layer(x)\n",
    "qkv.shape"
   ]
  },
  {
   "cell_type": "code",
   "execution_count": 8,
   "metadata": {},
   "outputs": [
    {
     "data": {
      "text/plain": [
       "tensor([[[-0.2017,  1.1068,  0.0260,  ..., -1.1974, -0.5606,  0.9321],\n",
       "         [-0.5236, -0.3487,  0.2872,  ...,  0.4473, -0.2781,  0.8835],\n",
       "         [-1.4264, -0.4598, -0.0927,  ...,  1.1395, -0.9284,  0.0876],\n",
       "         [ 0.9463,  0.1999, -0.7228,  ...,  0.3074, -0.0309, -0.3068]]],\n",
       "       grad_fn=<ViewBackward0>)"
      ]
     },
     "execution_count": 8,
     "metadata": {},
     "output_type": "execute_result"
    }
   ],
   "source": [
    "qkv"
   ]
  },
  {
   "cell_type": "code",
   "execution_count": 9,
   "metadata": {},
   "outputs": [
    {
     "data": {
      "text/plain": [
       "Text(0.5, 1.0, 'qkv distribution')"
      ]
     },
     "execution_count": 9,
     "metadata": {},
     "output_type": "execute_result"
    },
    {
     "data": {
      "image/png": "[encoded data removed]",
      "text/plain": [
       "<Figure size 640x480 with 1 Axes>"
      ]
     },
     "metadata": {},
     "output_type": "display_data"
    }
   ],
   "source": [
    "import matplotlib.pyplot as plt\n",
    "y_val = torch.histc(qkv, bins=200, min=-3, max=3)\n",
    "x_val = np.arange(-1, 1, 0.01) * 3\n",
    "plt.bar(x_val, y_val, align='center', color=['forestgreen'])\n",
    "plt.title('qkv distribution')"
   ]
  },
  {
   "cell_type": "code",
   "execution_count": 10,
   "metadata": {},
   "outputs": [
    {
     "data": {
      "text/plain": [
       "torch.Size([1, 4, 8, 192])"
      ]
     },
     "execution_count": 10,
     "metadata": {},
     "output_type": "execute_result"
    }
   ],
   "source": [
    "num_heads = 8\n",
    "head_dim = d_model // num_heads\n",
    "qkv = qkv.reshape(batch_size , sequence_length , num_heads , 3*head_dim)\n",
    "qkv.shape"
   ]
  },
  {
   "cell_type": "code",
   "execution_count": 11,
   "metadata": {},
   "outputs": [
    {
     "data": {
      "text/plain": [
       "torch.Size([1, 8, 4, 192])"
      ]
     },
     "execution_count": 11,
     "metadata": {},
     "output_type": "execute_result"
    }
   ],
   "source": [
    "qkv = qkv.permute(0, 2, 1, 3) # [batch_size, num_heads, sequence_length, 3*head_dim]\n",
    "qkv.shape"
   ]
  },
  {
   "cell_type": "code",
   "execution_count": 12,
   "metadata": {},
   "outputs": [
    {
     "data": {
      "text/plain": [
       "(torch.Size([1, 8, 4, 64]),\n",
       " torch.Size([1, 8, 4, 64]),\n",
       " torch.Size([1, 8, 4, 64]))"
      ]
     },
     "execution_count": 12,
     "metadata": {},
     "output_type": "execute_result"
    }
   ],
   "source": [
    "q, k, v = qkv.chunk(3, dim=-1)\n",
    "q.shape, k.shape, v.shape"
   ]
  },
  {
   "cell_type": "markdown",
   "metadata": {},
   "source": [
    "## Self Attention for multiple heads\n",
    "\n",
    "For a single head:\n",
    "$$\n",
    "\\text{self attention} = softmax\\bigg(\\frac{Q.K^T}{\\sqrt{d_k}}+M\\bigg)\n",
    "$$\n",
    "\n",
    "$$\n",
    "\\text{new V} = \\text{self attention}.V\n",
    "$$ "
   ]
  },
  {
   "cell_type": "code",
   "execution_count": 16,
   "metadata": {},
   "outputs": [
    {
     "data": {
      "text/plain": [
       "torch.Size([1, 8, 4, 4])"
      ]
     },
     "execution_count": 16,
     "metadata": {},
     "output_type": "execute_result"
    }
   ],
   "source": [
    "d_k = q.size()[-1]\n",
    "scaled = torch.matmul(q,k.transpose(-2,-1)) / math.sqrt(d_k)\n",
    "scaled.shape"
   ]
  },
  {
   "cell_type": "code",
   "execution_count": 17,
   "metadata": {},
   "outputs": [
    {
     "data": {
      "text/plain": [
       "torch.Size([64, 4, 8, 1])"
      ]
     },
     "execution_count": 17,
     "metadata": {},
     "output_type": "execute_result"
    }
   ],
   "source": [
    "k.T.shape"
   ]
  },
  {
   "cell_type": "code",
   "execution_count": 20,
   "metadata": {},
   "outputs": [
    {
     "name": "stdout",
     "output_type": "stream",
     "text": [
      "tensor([[ 0.4816, -0.7550, -0.7410],\n",
      "        [-0.2392, -0.5091,  0.7270]])\n"
     ]
    },
    {
     "data": {
      "text/plain": [
       "tensor([[ 0.4816, -0.2392],\n",
       "        [-0.7550, -0.5091],\n",
       "        [-0.7410,  0.7270]])"
      ]
     },
     "execution_count": 20,
     "metadata": {},
     "output_type": "execute_result"
    }
   ],
   "source": [
    "y = torch.randn(2,3)\n",
    "print(y)\n",
    "torch.transpose(y , 1 , 0)"
   ]
  },
  {
   "cell_type": "code",
   "execution_count": 22,
   "metadata": {},
   "outputs": [
    {
     "data": {
      "text/plain": [
       "tensor([[[[True, True, True, True],\n",
       "          [True, True, True, True],\n",
       "          [True, True, True, True],\n",
       "          ...,\n",
       "          [True, True, True, True],\n",
       "          [True, True, True, True],\n",
       "          [True, True, True, True]],\n",
       "\n",
       "         [[True, True, True, True],\n",
       "          [True, True, True, True],\n",
       "          [True, True, True, True],\n",
       "          ...,\n",
       "          [True, True, True, True],\n",
       "          [True, True, True, True],\n",
       "          [True, True, True, True]],\n",
       "\n",
       "         [[True, True, True, True],\n",
       "          [True, True, True, True],\n",
       "          [True, True, True, True],\n",
       "          ...,\n",
       "          [True, True, True, True],\n",
       "          [True, True, True, True],\n",
       "          [True, True, True, True]],\n",
       "\n",
       "         ...,\n",
       "\n",
       "         [[True, True, True, True],\n",
       "          [True, True, True, True],\n",
       "          [True, True, True, True],\n",
       "          ...,\n",
       "          [True, True, True, True],\n",
       "          [True, True, True, True],\n",
       "          [True, True, True, True]],\n",
       "\n",
       "         [[True, True, True, True],\n",
       "          [True, True, True, True],\n",
       "          [True, True, True, True],\n",
       "          ...,\n",
       "          [True, True, True, True],\n",
       "          [True, True, True, True],\n",
       "          [True, True, True, True]],\n",
       "\n",
       "         [[True, True, True, True],\n",
       "          [True, True, True, True],\n",
       "          [True, True, True, True],\n",
       "          ...,\n",
       "          [True, True, True, True],\n",
       "          [True, True, True, True],\n",
       "          [True, True, True, True]]]])"
      ]
     },
     "execution_count": 22,
     "metadata": {},
     "output_type": "execute_result"
    }
   ],
   "source": [
    "k.transpose(-1, -2) == k.transpose(-2, -1)"
   ]
  },
  {
   "cell_type": "code",
   "execution_count": 23,
   "metadata": {},
   "outputs": [
    {
     "data": {
      "text/plain": [
       "(torch.Size([1, 8, 64, 4]), torch.Size([1, 8, 64, 4]))"
      ]
     },
     "execution_count": 23,
     "metadata": {},
     "output_type": "execute_result"
    }
   ],
   "source": [
    "k.transpose(-1, -2).shape , k.transpose(-2, -1).shape"
   ]
  },
  {
   "cell_type": "code",
   "execution_count": 28,
   "metadata": {},
   "outputs": [
    {
     "name": "stdout",
     "output_type": "stream",
     "text": [
      "torch.Size([1, 8, 4, 4])\n"
     ]
    },
    {
     "data": {
      "text/plain": [
       "tensor([[0., -inf, -inf, -inf],\n",
       "        [0., 0., -inf, -inf],\n",
       "        [0., 0., 0., -inf],\n",
       "        [0., 0., 0., 0.]])"
      ]
     },
     "execution_count": 28,
     "metadata": {},
     "output_type": "execute_result"
    }
   ],
   "source": [
    "mask = torch.full(scaled.size() ,float('-inf'))\n",
    "mask = torch.triu(mask , diagonal=1)\n",
    "print(mask.shape)\n",
    "mask[0][1]"
   ]
  },
  {
   "cell_type": "code",
   "execution_count": 29,
   "metadata": {},
   "outputs": [
    {
     "data": {
      "text/plain": [
       "tensor([[ 0.2375,    -inf,    -inf,    -inf],\n",
       "        [ 0.3853, -0.0981,    -inf,    -inf],\n",
       "        [-0.2778,  0.4048,  0.5006,    -inf],\n",
       "        [-0.2462,  0.1624, -0.3263,  0.0839]], grad_fn=<SelectBackward0>)"
      ]
     },
     "execution_count": 29,
     "metadata": {},
     "output_type": "execute_result"
    }
   ],
   "source": [
    "(scaled + mask)[0][0]"
   ]
  },
  {
   "cell_type": "code",
   "execution_count": 30,
   "metadata": {},
   "outputs": [],
   "source": [
    "scaled += mask"
   ]
  },
  {
   "cell_type": "code",
   "execution_count": 32,
   "metadata": {},
   "outputs": [
    {
     "data": {
      "text/plain": [
       "0.6269606805367254"
      ]
     },
     "execution_count": 32,
     "metadata": {},
     "output_type": "execute_result"
    }
   ],
   "source": [
    "np.exp(0.5596) / (np.exp(0.5596) + np.exp(0.0404))"
   ]
  },
  {
   "cell_type": "code",
   "execution_count": 35,
   "metadata": {},
   "outputs": [
    {
     "data": {
      "text/plain": [
       "torch.Size([1, 8, 4, 4])"
      ]
     },
     "execution_count": 35,
     "metadata": {},
     "output_type": "execute_result"
    }
   ],
   "source": [
    "attention = F.softmax(scaled, dim=-1)\n",
    "attention.shape"
   ]
  },
  {
   "cell_type": "code",
   "execution_count": 36,
   "metadata": {},
   "outputs": [
    {
     "data": {
      "text/plain": [
       "tensor([[1.0000, 0.0000, 0.0000, 0.0000],\n",
       "        [0.6186, 0.3814, 0.0000, 0.0000],\n",
       "        [0.1939, 0.3838, 0.4223, 0.0000],\n",
       "        [0.2075, 0.3122, 0.1915, 0.2887]], grad_fn=<SelectBackward0>)"
      ]
     },
     "execution_count": 36,
     "metadata": {},
     "output_type": "execute_result"
    }
   ],
   "source": [
    "attention[0][0]"
   ]
  },
  {
   "cell_type": "code",
   "execution_count": 37,
   "metadata": {},
   "outputs": [
    {
     "data": {
      "text/plain": [
       "torch.Size([1, 8, 4, 64])"
      ]
     },
     "execution_count": 37,
     "metadata": {},
     "output_type": "execute_result"
    }
   ],
   "source": [
    "values = torch.matmul(attention,v)\n",
    "values.shape"
   ]
  },
  {
   "cell_type": "markdown",
   "metadata": {},
   "source": [
    "## Function"
   ]
  },
  {
   "cell_type": "code",
   "execution_count": 38,
   "metadata": {},
   "outputs": [],
   "source": [
    "def scaled_dot_product(q, k, v, mask=None):\n",
    "    d_k = q.size()[-1]\n",
    "    scaled = torch.matmul(q, k.transpose(-1, -2)) / math.sqrt(d_k)\n",
    "    if mask is not None:\n",
    "        scaled += mask\n",
    "    attention = F.softmax(scaled, dim=-1)\n",
    "    values = torch.matmul(attention, v)\n",
    "    return values, attention\n",
    "    "
   ]
  },
  {
   "cell_type": "code",
   "execution_count": 40,
   "metadata": {},
   "outputs": [
    {
     "data": {
      "text/plain": [
       "(torch.Size([1, 8, 4, 64]), torch.Size([1, 8, 4, 4]))"
      ]
     },
     "execution_count": 40,
     "metadata": {},
     "output_type": "execute_result"
    }
   ],
   "source": [
    "values, attention = scaled_dot_product(q, k, v, mask=mask)\n",
    "values.shape, attention.shape"
   ]
  },
  {
   "cell_type": "code",
   "execution_count": 41,
   "metadata": {},
   "outputs": [
    {
     "data": {
      "text/plain": [
       "torch.Size([1, 8, 4, 4])"
      ]
     },
     "execution_count": 41,
     "metadata": {},
     "output_type": "execute_result"
    }
   ],
   "source": [
    "attention.shape"
   ]
  },
  {
   "cell_type": "code",
   "execution_count": 44,
   "metadata": {},
   "outputs": [
    {
     "data": {
      "text/plain": [
       "tensor([[1.0000, 0.0000, 0.0000, 0.0000],\n",
       "        [0.6339, 0.3661, 0.0000, 0.0000],\n",
       "        [0.3593, 0.3458, 0.2949, 0.0000],\n",
       "        [0.2159, 0.2298, 0.2488, 0.3056]], grad_fn=<SelectBackward0>)"
      ]
     },
     "execution_count": 44,
     "metadata": {},
     "output_type": "execute_result"
    }
   ],
   "source": [
    "attention[0][3]"
   ]
  },
  {
   "cell_type": "code",
   "execution_count": 45,
   "metadata": {},
   "outputs": [
    {
     "data": {
      "text/plain": [
       "torch.Size([1, 8, 4, 64])"
      ]
     },
     "execution_count": 45,
     "metadata": {},
     "output_type": "execute_result"
    }
   ],
   "source": [
    "values.shape"
   ]
  },
  {
   "cell_type": "code",
   "execution_count": 47,
   "metadata": {},
   "outputs": [
    {
     "data": {
      "text/plain": [
       "tensor([[-1.5142e-02, -4.8592e-01, -4.8775e-01, -1.1860e-01, -9.3277e-01,\n",
       "         -1.0998e+00, -1.1298e+00, -9.5773e-02,  5.5119e-01, -5.6895e-01,\n",
       "         -3.6001e-01,  3.7907e-01,  7.7693e-01, -1.5217e-01, -1.1263e+00,\n",
       "          1.9349e-02, -6.3687e-01,  9.7181e-02,  1.5596e-01, -8.0707e-01,\n",
       "          9.7127e-02, -3.0956e-02,  1.2549e+00,  7.2740e-01,  7.1831e-01,\n",
       "          2.1477e-01, -4.7388e-01, -3.2426e-01,  3.3248e-01,  7.0756e-01,\n",
       "          1.7729e-01, -1.0177e+00, -4.3114e-01,  6.7719e-01, -6.1016e-01,\n",
       "          6.5727e-01, -8.5627e-01, -1.3770e+00, -5.6093e-01, -3.7432e-01,\n",
       "         -1.3737e+00,  9.9558e-01,  4.1240e-02, -4.3450e-01, -1.0823e+00,\n",
       "         -6.4076e-01, -4.9675e-01, -7.3843e-01,  4.7464e-01, -9.3642e-01,\n",
       "         -1.1230e+00, -1.2950e-01,  3.2031e-01,  1.8081e-02, -3.8488e-01,\n",
       "          5.3034e-02,  6.4935e-01, -1.5207e-01, -7.4602e-02,  3.4790e-01,\n",
       "         -5.4829e-02,  1.1093e+00, -3.4864e-01,  6.8235e-01],\n",
       "        [-3.6325e-01,  1.8120e-01, -5.9729e-01,  7.6069e-02, -2.2395e-01,\n",
       "         -1.2705e-01, -1.0491e+00,  2.7260e-01,  3.8329e-01,  2.4693e-01,\n",
       "         -1.9626e-01, -2.3017e-01,  1.7763e-01,  4.6800e-02, -5.1042e-01,\n",
       "          7.2135e-02, -6.9705e-01,  3.1385e-01, -1.3238e-01, -1.0721e+00,\n",
       "         -8.3309e-02,  3.5894e-01,  2.1370e-01,  4.2765e-01,  3.5538e-01,\n",
       "          3.8833e-02, -1.0941e-01,  1.3726e-01,  2.4956e-01,  6.9383e-01,\n",
       "          2.4141e-01, -4.1902e-01,  9.2708e-02,  7.3710e-01, -2.0217e-02,\n",
       "          9.2076e-01, -4.9973e-01, -5.7990e-01, -4.5152e-01,  1.3664e-01,\n",
       "         -4.1147e-01,  9.6582e-01, -4.0644e-01,  1.6765e-01, -3.7387e-01,\n",
       "         -6.5489e-01,  1.4582e-01, -1.0564e-01,  1.4029e-01, -9.2274e-01,\n",
       "         -9.1402e-01, -5.4474e-01,  7.7751e-01,  1.5072e-02, -5.1335e-01,\n",
       "         -4.2879e-01,  3.8501e-02,  4.3699e-01, -1.0088e-02,  6.1601e-02,\n",
       "         -1.0284e+00,  6.2837e-01,  3.1167e-01,  3.1683e-02],\n",
       "        [-2.0791e-01, -2.4060e-02, -4.0910e-01, -9.2412e-02,  1.4232e-01,\n",
       "         -3.4682e-02, -4.4624e-01,  2.2446e-01,  3.4986e-01,  3.4776e-02,\n",
       "         -1.2501e-01, -3.2363e-01,  3.2358e-01, -5.9414e-02, -4.5115e-01,\n",
       "          1.6313e-01, -3.6133e-01,  1.4543e-01, -2.7103e-02, -7.8625e-01,\n",
       "         -2.6308e-01,  2.2679e-01,  1.1286e-01,  3.8387e-01,  3.6328e-01,\n",
       "          2.3142e-02,  2.4320e-02, -7.2152e-02,  3.6594e-01,  7.1146e-01,\n",
       "         -1.6463e-01, -2.0905e-01,  2.3305e-02,  6.9507e-01,  1.4836e-01,\n",
       "          5.4603e-01, -2.4533e-01, -5.6065e-01, -5.7784e-01,  9.3165e-02,\n",
       "         -2.6404e-01,  5.2262e-01, -2.4192e-01,  2.1240e-01, -7.6291e-02,\n",
       "         -5.3073e-01, -7.2166e-02, -2.5152e-01,  1.3041e-01, -5.0656e-01,\n",
       "         -6.9349e-01, -2.5553e-01,  6.4564e-01, -6.1798e-02, -3.1531e-01,\n",
       "         -5.7962e-01,  1.6397e-01,  1.5280e-01,  2.5989e-01, -1.4976e-01,\n",
       "         -9.3694e-01,  4.5154e-01,  9.0678e-02, -1.3276e-01],\n",
       "        [-3.0352e-01,  2.6109e-01, -4.5162e-01,  7.4468e-02,  4.0917e-01,\n",
       "          2.0624e-01, -4.8930e-01,  2.5146e-01,  4.5984e-01,  6.4385e-02,\n",
       "          1.0881e-01, -4.6909e-01,  1.7374e-01, -2.1469e-01, -1.3224e-02,\n",
       "          1.5930e-01, -1.8621e-01, -1.0505e-03, -8.8663e-03, -8.5243e-01,\n",
       "         -3.7924e-01,  2.9691e-01, -1.5410e-01,  2.0406e-01,  9.8028e-02,\n",
       "          1.5727e-01,  2.0339e-01, -1.3128e-01,  9.5528e-02,  3.9723e-01,\n",
       "         -1.3202e-01,  4.3297e-02, -2.1796e-02,  5.5488e-01,  1.6642e-01,\n",
       "          4.3201e-01,  1.4180e-01, -2.6447e-01, -2.5650e-01,  1.6790e-01,\n",
       "         -1.4892e-01,  4.6954e-01, -2.9301e-01,  4.5732e-01,  1.9704e-01,\n",
       "         -3.8256e-01,  1.6986e-01, -1.8987e-02, -1.1259e-01, -4.2052e-01,\n",
       "         -4.0023e-01, -3.4819e-01,  6.3846e-01, -2.5227e-03, -4.9193e-02,\n",
       "         -4.3544e-01,  1.3624e-01, -5.3738e-02,  3.9420e-01, -3.8855e-01,\n",
       "         -8.8357e-01,  4.0068e-01,  2.5916e-01, -4.9682e-01]],\n",
       "       grad_fn=<SelectBackward0>)"
      ]
     },
     "execution_count": 47,
     "metadata": {},
     "output_type": "execute_result"
    }
   ],
   "source": [
    "values[0][1]"
   ]
  },
  {
   "cell_type": "code",
   "execution_count": 48,
   "metadata": {},
   "outputs": [
    {
     "data": {
      "text/plain": [
       "torch.Size([1, 4, 512])"
      ]
     },
     "execution_count": 48,
     "metadata": {},
     "output_type": "execute_result"
    }
   ],
   "source": [
    "values = values.reshape(batch_size, sequence_length, num_heads * head_dim)\n",
    "values.size()"
   ]
  },
  {
   "cell_type": "code",
   "execution_count": 49,
   "metadata": {},
   "outputs": [],
   "source": [
    "linear_layer = nn.Linear(d_model,d_model)"
   ]
  },
  {
   "cell_type": "code",
   "execution_count": 50,
   "metadata": {},
   "outputs": [
    {
     "data": {
      "text/plain": [
       "torch.Size([1, 4, 512])"
      ]
     },
     "execution_count": 50,
     "metadata": {},
     "output_type": "execute_result"
    }
   ],
   "source": [
    "out = linear_layer(values)\n",
    "out.shape\n"
   ]
  },
  {
   "cell_type": "code",
   "execution_count": 51,
   "metadata": {},
   "outputs": [
    {
     "data": {
      "text/plain": [
       "tensor([[[-0.6338, -0.0215, -0.4086,  ..., -0.3895, -0.3378, -0.1123],\n",
       "         [-0.4972,  0.2225,  0.0382,  ...,  0.0462,  0.0242, -0.2343],\n",
       "         [-0.1701, -0.2749,  0.0717,  ..., -0.1998, -0.3026, -0.0630],\n",
       "         [-0.1397,  0.0029, -0.0619,  ..., -0.1025,  0.0604,  0.3012]]],\n",
       "       grad_fn=<ViewBackward0>)"
      ]
     },
     "execution_count": 51,
     "metadata": {},
     "output_type": "execute_result"
    }
   ],
   "source": [
    "out"
   ]
  },
  {
   "cell_type": "markdown",
   "metadata": {},
   "source": [
    "## Class"
   ]
  },
  {
   "cell_type": "code",
   "execution_count": 53,
   "metadata": {},
   "outputs": [],
   "source": [
    "import torch\n",
    "import torch.nn as nn\n",
    "import math\n",
    "\n",
    "# Define the scaled dot product attention function\n",
    "def scaled_dot_product(q, k, v, mask=None):\n",
    "    # Get the dimension of the key vectors\n",
    "    d_k = q.size()[-1]\n",
    "    \n",
    "    # Calculate the scaled dot product attention\n",
    "    scaled = torch.matmul(q, k.transpose(-1, -2)) / math.sqrt(d_k)\n",
    "    \n",
    "    # Add the mask if provided\n",
    "    if mask is not None:\n",
    "        scaled += mask\n",
    "    \n",
    "    # Apply the softmax to obtain attention weights\n",
    "    attention = F.softmax(scaled, dim=-1)\n",
    "    \n",
    "    # Calculate the weighted sum using attention weights\n",
    "    values = torch.matmul(attention, v)\n",
    "    \n",
    "    return values, attention\n",
    "\n",
    "# Define the MultiheadAttention module\n",
    "class MultiheadAttention(nn.Module):\n",
    "\n",
    "    def __init__(self, input_dim, d_model, num_heads):\n",
    "        super().__init__()\n",
    "        self.input_dim = input_dim\n",
    "        self.d_model = d_model\n",
    "        self.num_heads = num_heads\n",
    "        self.head_dim = d_model // num_heads\n",
    "        \n",
    "        # Linear layer for Q, K, V\n",
    "        self.qkv_layer = nn.Linear(input_dim , 3 * d_model)\n",
    "        \n",
    "        # Linear layer after concatenating the outputs from different heads\n",
    "        self.linear_layer = nn.Linear(d_model, d_model)\n",
    "    \n",
    "    def forward(self, x, mask=None):\n",
    "        # Get dimensions of the input tensor\n",
    "        batch_size, sequence_length, input_dim = x.size()\n",
    "        print(f\"x.size(): {x.size()}\")\n",
    "        # Linear transformation for Q, K, V\n",
    "        qkv = self.qkv_layer(x)\n",
    "        print(f\"qkv.size(): {qkv.size()}\")\n",
    "        \n",
    "        # Reshape the tensor to split into Q, K, V for each head\n",
    "        qkv = qkv.reshape(batch_size, sequence_length, self.num_heads, 3 * self.head_dim)\n",
    "        print(f\"qkv.size(): {qkv.size()}\")\n",
    "                \n",
    "        # Permute the dimensions for matrix multiplication\n",
    "        qkv = qkv.permute(0, 2, 1, 3)\n",
    "        print(f\"qkv.size(): {qkv.size()}\")\n",
    "                \n",
    "        # Split into Q, K, V\n",
    "        q, k, v = qkv.chunk(3, dim=-1)\n",
    "        print(f\"q size: {q.size()}, k size: {k.size()}, v size: {v.size()}, \")\n",
    "                \n",
    "        # Apply scaled dot product attention\n",
    "        values, attention = scaled_dot_product(q, k, v, mask)\n",
    "        print(f\"values.size(): {values.size()}, attention.size:{ attention.size()} \")\n",
    "                \n",
    "        # Reshape values and apply linear transformation\n",
    "        values = values.reshape(batch_size, sequence_length, self.num_heads * self.head_dim)\n",
    "        print(f\"values.size(): {values.size()}\")\n",
    "        \n",
    "        out = self.linear_layer(values)\n",
    "        print(f\"out.size(): {out.size()}\")\n",
    "\n",
    "        return out\n"
   ]
  },
  {
   "cell_type": "markdown",
   "metadata": {},
   "source": [
    "### Input"
   ]
  },
  {
   "cell_type": "code",
   "execution_count": 54,
   "metadata": {},
   "outputs": [
    {
     "name": "stdout",
     "output_type": "stream",
     "text": [
      "x.size(): torch.Size([30, 5, 1024])\n",
      "qkv.size(): torch.Size([30, 5, 1536])\n",
      "qkv.size(): torch.Size([30, 5, 8, 192])\n",
      "qkv.size(): torch.Size([30, 8, 5, 192])\n",
      "q size: torch.Size([30, 8, 5, 64]), k size: torch.Size([30, 8, 5, 64]), v size: torch.Size([30, 8, 5, 64]), \n",
      "values.size(): torch.Size([30, 8, 5, 64]), attention.size:torch.Size([30, 8, 5, 5]) \n",
      "values.size(): torch.Size([30, 5, 512])\n",
      "out.size(): torch.Size([30, 5, 512])\n"
     ]
    }
   ],
   "source": [
    "input_dim = 1024\n",
    "d_model = 512\n",
    "num_heads = 8\n",
    "\n",
    "batch_size = 30\n",
    "sequence_length = 5\n",
    "x = torch.randn( (batch_size, sequence_length, input_dim) )\n",
    "\n",
    "model = MultiheadAttention(input_dim, d_model, num_heads)\n",
    "out = model.forward(x)"
   ]
  },
  {
   "cell_type": "code",
   "execution_count": null,
   "metadata": {},
   "outputs": [],
   "source": []
  }
 ],
 "metadata": {
  "kernelspec": {
   "display_name": "Python 3",
   "language": "python",
   "name": "python3"
  },
  "language_info": {
   "codemirror_mode": {
    "name": "ipython",
    "version": 3
   },
   "file_extension": ".py",
   "mimetype": "text/x-python",
   "name": "python",
   "nbconvert_exporter": "python",
   "pygments_lexer": "ipython3",
   "version": "3.10.13"
  }
 },
 "nbformat": 4,
 "nbformat_minor": 2
}
