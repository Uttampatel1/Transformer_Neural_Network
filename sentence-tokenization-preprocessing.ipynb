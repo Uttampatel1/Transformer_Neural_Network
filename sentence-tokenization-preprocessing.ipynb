{
 "cells": [
  {
   "cell_type": "markdown",
   "id": "43ba3256",
   "metadata": {
    "papermill": {
     "duration": 0.009228,
     "end_time": "2023-04-15T14:18:15.743136",
     "exception": false,
     "start_time": "2023-04-15T14:18:15.733908",
     "status": "completed"
    },
    "tags": []
   },
   "source": [
    "# **Sentence Tokenization**\n",
    "\n",
    "Sentence tokenization is the process of splitting a text into individual sentences. It is a crucial step in natural language processing, as many algorithms and models operate on a sentence-level basis. Tokenization refers to the process of breaking a large text into smaller chunks, called tokens. In the case of sentence tokenization, the text is broken into individual sentences, with each sentence being considered as a separate token.\n",
    "\n",
    "Sentence tokenization can be achieved using various techniques, such as using regular expressions to match patterns of punctuation marks, or using machine learning models that have been trained on large datasets. Once the text has been tokenized into individual sentences, it can then be further preprocessed and analyzed, such as by removing stop words, stemming, or lemmatization.\n",
    "\n",
    "Sentence tokenization is an important preprocessing step in many NLP tasks, such as machine translation, text summarization, sentiment analysis, and more. It allows for the text to be segmented into smaller, more manageable units, which can then be analyzed and processed more efficiently. Additionally, sentence tokenization helps to ensure that the output of an NLP model is coherent and meaningful, as it ensures that each output is a complete sentence that can be understood by a human reader."
   ]
  },
  {
   "cell_type": "markdown",
   "id": "39684fa1",
   "metadata": {
    "papermill": {
     "duration": 0.007123,
     "end_time": "2023-04-15T14:18:15.757765",
     "exception": false,
     "start_time": "2023-04-15T14:18:15.750642",
     "status": "completed"
    },
    "tags": []
   },
   "source": [
    "# Importing Libraries"
   ]
  },
  {
   "cell_type": "code",
   "execution_count": 1,
   "id": "858daaac",
   "metadata": {
    "execution": {
     "iopub.execute_input": "2023-04-15T14:18:15.775402Z",
     "iopub.status.busy": "2023-04-15T14:18:15.774977Z",
     "iopub.status.idle": "2023-04-15T14:18:18.535365Z",
     "shell.execute_reply": "2023-04-15T14:18:18.533897Z"
    },
    "papermill": {
     "duration": 2.772681,
     "end_time": "2023-04-15T14:18:18.538532",
     "exception": false,
     "start_time": "2023-04-15T14:18:15.765851",
     "status": "completed"
    },
    "tags": []
   },
   "outputs": [],
   "source": [
    "import torch\n",
    "import numpy as np\n",
    "import torch.nn as nn\n",
    "import math"
   ]
  },
  {
   "cell_type": "markdown",
   "id": "cd5d4591",
   "metadata": {
    "papermill": {
     "duration": 0.007093,
     "end_time": "2023-04-15T14:18:18.553174",
     "exception": false,
     "start_time": "2023-04-15T14:18:18.546081",
     "status": "completed"
    },
    "tags": []
   },
   "source": [
    "# Importing/Loading the File containing the English and its corresponding Gujarati Sentence"
   ]
  },
  {
   "cell_type": "code",
   "execution_count": 2,
   "id": "bf8a57e2",
   "metadata": {
    "execution": {
     "iopub.execute_input": "2023-04-15T14:18:18.570462Z",
     "iopub.status.busy": "2023-04-15T14:18:18.569865Z",
     "iopub.status.idle": "2023-04-15T14:18:18.575539Z",
     "shell.execute_reply": "2023-04-15T14:18:18.574344Z"
    },
    "papermill": {
     "duration": 0.017655,
     "end_time": "2023-04-15T14:18:18.578277",
     "exception": false,
     "start_time": "2023-04-15T14:18:18.560622",
     "status": "completed"
    },
    "tags": []
   },
   "outputs": [],
   "source": [
    "english_file = '/kaggle/input/english-to-gujarati-machine-translation-dataset/en-gu/train.en'\n",
    "gujarati_file = '/kaggle/input/english-to-gujarati-machine-translation-dataset/en-gu/train.gu'"
   ]
  },
  {
   "cell_type": "markdown",
   "id": "134efa54",
   "metadata": {
    "papermill": {
     "duration": 0.007269,
     "end_time": "2023-04-15T14:18:18.593046",
     "exception": false,
     "start_time": "2023-04-15T14:18:18.585777",
     "status": "completed"
    },
    "tags": []
   },
   "source": [
    "# **Creating the Alpha Syllabery/Vocabulary for both Languages**"
   ]
  },
  {
   "cell_type": "code",
   "execution_count": 3,
   "id": "29b1da05",
   "metadata": {
    "execution": {
     "iopub.execute_input": "2023-04-15T14:18:18.611177Z",
     "iopub.status.busy": "2023-04-15T14:18:18.610268Z",
     "iopub.status.idle": "2023-04-15T14:18:18.624234Z",
     "shell.execute_reply": "2023-04-15T14:18:18.623066Z"
    },
    "papermill": {
     "duration": 0.026124,
     "end_time": "2023-04-15T14:18:18.626672",
     "exception": false,
     "start_time": "2023-04-15T14:18:18.600548",
     "status": "completed"
    },
    "tags": []
   },
   "outputs": [],
   "source": [
    "START_TOKEN = '<s>'\n",
    "PADDING_TOKEN = '</s>'\n",
    "END_TOKEN = '<pad>'\n",
    "\n",
    "gujarati_vocabulary = [START_TOKEN, ' ', '!', '\"', '#', '$', '%', '&', \"'\", '(', ')', '*', '+', ',', '-', '.', '/',\n",
    "                       '૦', '૧', '૨', '૩', '૪', '૫', '૬', '૭', '૮', '૯', ':', '<', '=', '>', '?', '@',\n",
    "                       'અ', 'આ', 'ઇ', 'ઈ', 'ઉ', 'ઊ', 'ઋ', 'ૠ', 'ઌ', 'ૡ', 'ઍ', 'એ', 'ઐ', 'ઑ', 'ઓ', 'ઔ',\n",
    "                       'ક', 'ખ', 'ગ', 'ઘ', 'ઙ',\n",
    "                       'ચ', 'છ', 'જ', 'ઝ', 'ઞ',                        \n",
    "                       'ટ', 'ઠ', 'ડ', 'ઢ', 'ણ',                        \n",
    "                       'ત', 'થ', 'દ', 'ધ', 'ન',                        \n",
    "                       'પ', 'ફ', 'બ', 'ભ', 'મ',                        \n",
    "                       'ય', 'ર', 'લ', 'વ', 'શ', 'ષ', 'સ', 'હ', '઼', 'ા', 'િ', 'ી', 'ુ', 'ૂ', 'ૃ', 'ૄ', 'ૅ', 'ે', 'ૈ', 'ૉ', 'ો', 'ૌ', '્', 'ૐ', 'ૠ', 'ૡ', 'ં', 'ઃ',\n",
    "                       PADDING_TOKEN, END_TOKEN]\n",
    "\n",
    "\n",
    "english_vocabulary = [START_TOKEN, ' ', '!', '\"', '#', '$', '%', '&', \"'\", '(', ')', '*', '+', ',', '-', '.', '/', \n",
    "                        '0', '1', '2', '3', '4', '5', '6', '7', '8', '9',\n",
    "                        ':', '<', '=', '>', '?', '@', \n",
    "                        'A', 'B', 'C', 'D', 'E', 'F', 'G', 'H', 'I', 'J', 'K', 'L', \n",
    "                        'M', 'N', 'O', 'P', 'Q', 'R', 'S', 'T', 'U', 'V', 'W', 'X', \n",
    "                        'Y', 'Z',\n",
    "                        \"[\", \"/\", \"]\", \"^\", \"_\", \"`\", \n",
    "                        'a', 'b', 'c', 'd', 'e', 'f', 'g', 'h', 'i', 'j', 'k', 'l',\n",
    "                        'm', 'n', 'o', 'p', 'q', 'r', 's', 't', 'u', 'v', 'w', 'x', \n",
    "                        'y', 'z', \n",
    "                        '{', '|', '}', '~', PADDING_TOKEN, END_TOKEN]"
   ]
  },
  {
   "cell_type": "markdown",
   "id": "e590e146",
   "metadata": {
    "papermill": {
     "duration": 0.008268,
     "end_time": "2023-04-15T14:18:18.642449",
     "exception": false,
     "start_time": "2023-04-15T14:18:18.634181",
     "status": "completed"
    },
    "tags": []
   },
   "source": [
    "# **Traversing each of the Indic Unicode Characters**"
   ]
  },
  {
   "cell_type": "code",
   "execution_count": 4,
   "id": "20abb16d",
   "metadata": {
    "execution": {
     "iopub.execute_input": "2023-04-15T14:18:18.659602Z",
     "iopub.status.busy": "2023-04-15T14:18:18.659163Z",
     "iopub.status.idle": "2023-04-15T14:18:18.666056Z",
     "shell.execute_reply": "2023-04-15T14:18:18.664820Z"
    },
    "papermill": {
     "duration": 0.018554,
     "end_time": "2023-04-15T14:18:18.668484",
     "exception": false,
     "start_time": "2023-04-15T14:18:18.649930",
     "status": "completed"
    },
    "tags": []
   },
   "outputs": [],
   "source": [
    "index_to_gujarati = {k:v for k,v in enumerate(gujarati_vocabulary)}\n",
    "gujarati_to_index = {v:k for k,v in enumerate(gujarati_vocabulary)}\n",
    "index_to_english = {k:v for k,v in enumerate(english_vocabulary)}\n",
    "english_to_index = {v:k for k,v in enumerate(english_vocabulary)}"
   ]
  },
  {
   "cell_type": "code",
   "execution_count": 5,
   "id": "88a2102e",
   "metadata": {
    "execution": {
     "iopub.execute_input": "2023-04-15T14:18:18.685276Z",
     "iopub.status.busy": "2023-04-15T14:18:18.684835Z",
     "iopub.status.idle": "2023-04-15T14:18:18.696632Z",
     "shell.execute_reply": "2023-04-15T14:18:18.695340Z"
    },
    "papermill": {
     "duration": 0.023189,
     "end_time": "2023-04-15T14:18:18.699188",
     "exception": false,
     "start_time": "2023-04-15T14:18:18.675999",
     "status": "completed"
    },
    "tags": []
   },
   "outputs": [
    {
     "data": {
      "text/plain": [
       "{'<s>': 0,\n",
       " ' ': 1,\n",
       " '!': 2,\n",
       " '\"': 3,\n",
       " '#': 4,\n",
       " '$': 5,\n",
       " '%': 6,\n",
       " '&': 7,\n",
       " \"'\": 8,\n",
       " '(': 9,\n",
       " ')': 10,\n",
       " '*': 11,\n",
       " '+': 12,\n",
       " ',': 13,\n",
       " '-': 14,\n",
       " '.': 15,\n",
       " '/': 16,\n",
       " '૦': 17,\n",
       " '૧': 18,\n",
       " '૨': 19,\n",
       " '૩': 20,\n",
       " '૪': 21,\n",
       " '૫': 22,\n",
       " '૬': 23,\n",
       " '૭': 24,\n",
       " '૮': 25,\n",
       " '૯': 26,\n",
       " ':': 27,\n",
       " '<': 28,\n",
       " '=': 29,\n",
       " '>': 30,\n",
       " '?': 31,\n",
       " '@': 32,\n",
       " 'અ': 33,\n",
       " 'આ': 34,\n",
       " 'ઇ': 35,\n",
       " 'ઈ': 36,\n",
       " 'ઉ': 37,\n",
       " 'ઊ': 38,\n",
       " 'ઋ': 39,\n",
       " 'ૠ': 98,\n",
       " 'ઌ': 41,\n",
       " 'ૡ': 99,\n",
       " 'ઍ': 43,\n",
       " 'એ': 44,\n",
       " 'ઐ': 45,\n",
       " 'ઑ': 46,\n",
       " 'ઓ': 47,\n",
       " 'ઔ': 48,\n",
       " 'ક': 49,\n",
       " 'ખ': 50,\n",
       " 'ગ': 51,\n",
       " 'ઘ': 52,\n",
       " 'ઙ': 53,\n",
       " 'ચ': 54,\n",
       " 'છ': 55,\n",
       " 'જ': 56,\n",
       " 'ઝ': 57,\n",
       " 'ઞ': 58,\n",
       " 'ટ': 59,\n",
       " 'ઠ': 60,\n",
       " 'ડ': 61,\n",
       " 'ઢ': 62,\n",
       " 'ણ': 63,\n",
       " 'ત': 64,\n",
       " 'થ': 65,\n",
       " 'દ': 66,\n",
       " 'ધ': 67,\n",
       " 'ન': 68,\n",
       " 'પ': 69,\n",
       " 'ફ': 70,\n",
       " 'બ': 71,\n",
       " 'ભ': 72,\n",
       " 'મ': 73,\n",
       " 'ય': 74,\n",
       " 'ર': 75,\n",
       " 'લ': 76,\n",
       " 'વ': 77,\n",
       " 'શ': 78,\n",
       " 'ષ': 79,\n",
       " 'સ': 80,\n",
       " 'હ': 81,\n",
       " '઼': 82,\n",
       " 'ા': 83,\n",
       " 'િ': 84,\n",
       " 'ી': 85,\n",
       " 'ુ': 86,\n",
       " 'ૂ': 87,\n",
       " 'ૃ': 88,\n",
       " 'ૄ': 89,\n",
       " 'ૅ': 90,\n",
       " 'ે': 91,\n",
       " 'ૈ': 92,\n",
       " 'ૉ': 93,\n",
       " 'ો': 94,\n",
       " 'ૌ': 95,\n",
       " '્': 96,\n",
       " 'ૐ': 97,\n",
       " 'ં': 100,\n",
       " 'ઃ': 101,\n",
       " '</s>': 102,\n",
       " '<pad>': 103}"
      ]
     },
     "execution_count": 5,
     "metadata": {},
     "output_type": "execute_result"
    }
   ],
   "source": [
    "gujarati_to_index"
   ]
  },
  {
   "cell_type": "markdown",
   "id": "5d6592ac",
   "metadata": {
    "papermill": {
     "duration": 0.007386,
     "end_time": "2023-04-15T14:18:18.714294",
     "exception": false,
     "start_time": "2023-04-15T14:18:18.706908",
     "status": "completed"
    },
    "tags": []
   },
   "source": [
    "# Reading Lines from File"
   ]
  },
  {
   "cell_type": "code",
   "execution_count": 6,
   "id": "9e87820d",
   "metadata": {
    "execution": {
     "iopub.execute_input": "2023-04-15T14:18:18.731642Z",
     "iopub.status.busy": "2023-04-15T14:18:18.731229Z",
     "iopub.status.idle": "2023-04-15T14:18:28.869986Z",
     "shell.execute_reply": "2023-04-15T14:18:28.868768Z"
    },
    "papermill": {
     "duration": 10.151061,
     "end_time": "2023-04-15T14:18:28.872945",
     "exception": false,
     "start_time": "2023-04-15T14:18:18.721884",
     "status": "completed"
    },
    "tags": []
   },
   "outputs": [],
   "source": [
    "with open(english_file, 'r') as file:\n",
    "    english_sentences = file.readlines()\n",
    "with open(gujarati_file, 'r') as file:\n",
    "    gujarati_sentences = file.readlines()"
   ]
  },
  {
   "cell_type": "code",
   "execution_count": 7,
   "id": "25843800",
   "metadata": {
    "execution": {
     "iopub.execute_input": "2023-04-15T14:18:28.890807Z",
     "iopub.status.busy": "2023-04-15T14:18:28.890368Z",
     "iopub.status.idle": "2023-04-15T14:18:29.343005Z",
     "shell.execute_reply": "2023-04-15T14:18:29.341548Z"
    },
    "papermill": {
     "duration": 0.465225,
     "end_time": "2023-04-15T14:18:29.345962",
     "exception": false,
     "start_time": "2023-04-15T14:18:28.880737",
     "status": "completed"
    },
    "tags": []
   },
   "outputs": [],
   "source": [
    "# Limit Number of sentences\n",
    "TOTAL_SENTENCES = 200000\n",
    "english_sentences = english_sentences[:TOTAL_SENTENCES]\n",
    "gujarati_sentences = gujarati_sentences[:TOTAL_SENTENCES]\n",
    "english_sentences = [sentence.rstrip('\\n') for sentence in english_sentences]\n",
    "gujarati_sentences = [sentence.rstrip('\\n') for sentence in gujarati_sentences]"
   ]
  },
  {
   "cell_type": "code",
   "execution_count": 8,
   "id": "311ae02c",
   "metadata": {
    "execution": {
     "iopub.execute_input": "2023-04-15T14:18:29.363478Z",
     "iopub.status.busy": "2023-04-15T14:18:29.362223Z",
     "iopub.status.idle": "2023-04-15T14:18:29.370469Z",
     "shell.execute_reply": "2023-04-15T14:18:29.369198Z"
    },
    "papermill": {
     "duration": 0.019946,
     "end_time": "2023-04-15T14:18:29.373330",
     "exception": false,
     "start_time": "2023-04-15T14:18:29.353384",
     "status": "completed"
    },
    "tags": []
   },
   "outputs": [
    {
     "data": {
      "text/plain": [
       "['Are you doing online transactions?',\n",
       " 'Kunwar explains:',\n",
       " 'A passenger train is sitting at a station.',\n",
       " 'heavy snow shower',\n",
       " 'It was plain that their intensive study of the Scriptures over their five months of training had reached their heart and motivated them to share with others what they had learned.',\n",
       " 'Jesus Christ is overseeing the greatest preaching campaign in history',\n",
       " 'He had gained victory by a margin of 67,000 votes.',\n",
       " 'The Moskals immediately included the reading of the Harp book in their regular Bible - reading sessions.',\n",
       " 'Gas lasers.',\n",
       " 'Effective December 2 midnight, petrol, diesel and gas outlets will be removed from the exempt category for receipt of old Rs 500 notes']"
      ]
     },
     "execution_count": 8,
     "metadata": {},
     "output_type": "execute_result"
    }
   ],
   "source": [
    "english_sentences[:10]"
   ]
  },
  {
   "cell_type": "code",
   "execution_count": 9,
   "id": "cf990461",
   "metadata": {
    "execution": {
     "iopub.execute_input": "2023-04-15T14:18:29.390318Z",
     "iopub.status.busy": "2023-04-15T14:18:29.389890Z",
     "iopub.status.idle": "2023-04-15T14:18:29.398175Z",
     "shell.execute_reply": "2023-04-15T14:18:29.396761Z"
    },
    "papermill": {
     "duration": 0.019694,
     "end_time": "2023-04-15T14:18:29.400678",
     "exception": false,
     "start_time": "2023-04-15T14:18:29.380984",
     "status": "completed"
    },
    "tags": []
   },
   "outputs": [
    {
     "data": {
      "text/plain": [
       "['ઓનલાઈન ટ્રાન્ઝેક્શન કરી શકાય?',\n",
       " 'કુરાન તે વર્ણવે છે:',\n",
       " 'એક પેસેન્જર ટ્રેન સ્ટેશન પર બેઠેલું છે.',\n",
       " 'ભારે બરફના ટૂકડાweather forecast',\n",
       " 'પાંચ મહિનાના કોર્સમાં પોતે જે કંઈ શીખ્યો, એ એક વિદ્યાર્થીએ પોતાના નાના ભાઈને જણાવ્યું.',\n",
       " 'આજે પૃથ્વી પર થઈ રહેલા મહાન પ્રચાર કાર્યની ઈસુ દેખરેખ રાખે છે',\n",
       " 'આમ, તેઓ 67,000થી વધુ મતથી જીતી ગયા છે.',\n",
       " 'મૉસ્કેલ કુટુંબે બાઇબલ સાથે સાથે એ પુસ્તક પણ વાંચવાનું શરૂ કરી દીધું.',\n",
       " 'ગેસ લેસર્સ.',\n",
       " '10 ડિસેમ્બરથી 500 રુપિયની જૂની નોટ રેલવે, મેટ્રો અને બસમાં ચાલવાનું બંધ થઇ જશે']"
      ]
     },
     "execution_count": 9,
     "metadata": {},
     "output_type": "execute_result"
    }
   ],
   "source": [
    "gujarati_sentences[:10]"
   ]
  },
  {
   "cell_type": "code",
   "execution_count": 10,
   "id": "e9e5d01c",
   "metadata": {
    "execution": {
     "iopub.execute_input": "2023-04-15T14:18:29.419336Z",
     "iopub.status.busy": "2023-04-15T14:18:29.418947Z",
     "iopub.status.idle": "2023-04-15T14:18:29.488531Z",
     "shell.execute_reply": "2023-04-15T14:18:29.487579Z"
    },
    "papermill": {
     "duration": 0.082481,
     "end_time": "2023-04-15T14:18:29.491040",
     "exception": false,
     "start_time": "2023-04-15T14:18:29.408559",
     "status": "completed"
    },
    "tags": []
   },
   "outputs": [
    {
     "data": {
      "text/plain": [
       "(1182, 1004)"
      ]
     },
     "execution_count": 10,
     "metadata": {},
     "output_type": "execute_result"
    }
   ],
   "source": [
    "max(len(x) for x in gujarati_sentences), max(len(x) for x in english_sentences),"
   ]
  },
  {
   "cell_type": "markdown",
   "id": "661d5bb7",
   "metadata": {
    "papermill": {
     "duration": 0.007635,
     "end_time": "2023-04-15T14:18:29.506834",
     "exception": false,
     "start_time": "2023-04-15T14:18:29.499199",
     "status": "completed"
    },
    "tags": []
   },
   "source": [
    "# Choosing the top 99 Percentile of data"
   ]
  },
  {
   "cell_type": "code",
   "execution_count": 11,
   "id": "4539648e",
   "metadata": {
    "execution": {
     "iopub.execute_input": "2023-04-15T14:18:29.525273Z",
     "iopub.status.busy": "2023-04-15T14:18:29.524243Z",
     "iopub.status.idle": "2023-04-15T14:18:29.622045Z",
     "shell.execute_reply": "2023-04-15T14:18:29.620697Z"
    },
    "papermill": {
     "duration": 0.109607,
     "end_time": "2023-04-15T14:18:29.624453",
     "exception": false,
     "start_time": "2023-04-15T14:18:29.514846",
     "status": "completed"
    },
    "tags": []
   },
   "outputs": [
    {
     "name": "stdout",
     "output_type": "stream",
     "text": [
      "99th percentile length Kannada: 227.0\n",
      "99th percentile length English: 245.0\n"
     ]
    }
   ],
   "source": [
    "PERCENTILE = 99\n",
    "print( f\"{PERCENTILE}th percentile length Kannada: {np.percentile([len(x) for x in gujarati_sentences], PERCENTILE)}\" )\n",
    "print( f\"{PERCENTILE}th percentile length English: {np.percentile([len(x) for x in english_sentences], PERCENTILE)}\" )"
   ]
  },
  {
   "cell_type": "markdown",
   "id": "a399f250",
   "metadata": {
    "papermill": {
     "duration": 0.007922,
     "end_time": "2023-04-15T14:18:29.641070",
     "exception": false,
     "start_time": "2023-04-15T14:18:29.633148",
     "status": "completed"
    },
    "tags": []
   },
   "source": [
    "# Sentences having vocab context and length of sentence should be upto the max_sentence_length"
   ]
  },
  {
   "cell_type": "code",
   "execution_count": 12,
   "id": "c9776a6b",
   "metadata": {
    "execution": {
     "iopub.execute_input": "2023-04-15T14:18:29.659902Z",
     "iopub.status.busy": "2023-04-15T14:18:29.659083Z",
     "iopub.status.idle": "2023-04-15T14:18:29.664099Z",
     "shell.execute_reply": "2023-04-15T14:18:29.662882Z"
    },
    "papermill": {
     "duration": 0.017298,
     "end_time": "2023-04-15T14:18:29.666666",
     "exception": false,
     "start_time": "2023-04-15T14:18:29.649368",
     "status": "completed"
    },
    "tags": []
   },
   "outputs": [],
   "source": [
    "max_sequence_length = 300"
   ]
  },
  {
   "cell_type": "code",
   "execution_count": 13,
   "id": "97e54fd7",
   "metadata": {
    "execution": {
     "iopub.execute_input": "2023-04-15T14:18:29.685236Z",
     "iopub.status.busy": "2023-04-15T14:18:29.684303Z",
     "iopub.status.idle": "2023-04-15T14:18:35.965049Z",
     "shell.execute_reply": "2023-04-15T14:18:35.963177Z"
    },
    "papermill": {
     "duration": 6.292752,
     "end_time": "2023-04-15T14:18:35.967713",
     "exception": false,
     "start_time": "2023-04-15T14:18:29.674961",
     "status": "completed"
    },
    "tags": []
   },
   "outputs": [
    {
     "name": "stdout",
     "output_type": "stream",
     "text": [
      "Number of sentences: 200000\n",
      "Number of valid sentences: 139624\n"
     ]
    }
   ],
   "source": [
    "def is_valid_tokens(sentence, vocab):\n",
    "    for token in list(set(sentence)):\n",
    "        if token not in vocab:\n",
    "            return False\n",
    "    return True\n",
    "\n",
    "def is_valid_length(sentence, max_sequence_length):\n",
    "    return len(list(sentence)) < (max_sequence_length - 1) # need to re-add the end token so leaving 1 space\n",
    "\n",
    "valid_sentence_indicies = []\n",
    "for index in range(len(gujarati_sentences)):\n",
    "    gujarati_sentence, english_sentence = gujarati_sentences[index], english_sentences[index]\n",
    "    if is_valid_length(gujarati_sentence, max_sequence_length) \\\n",
    "      and is_valid_length(english_sentence, max_sequence_length) \\\n",
    "      and is_valid_tokens(gujarati_sentence, gujarati_vocabulary):\n",
    "        valid_sentence_indicies.append(index)\n",
    "\n",
    "print(f\"Number of sentences: {len(gujarati_sentences)}\")\n",
    "print(f\"Number of valid sentences: {len(valid_sentence_indicies)}\")"
   ]
  },
  {
   "cell_type": "code",
   "execution_count": 14,
   "id": "7e6e4d4f",
   "metadata": {
    "execution": {
     "iopub.execute_input": "2023-04-15T14:18:35.986711Z",
     "iopub.status.busy": "2023-04-15T14:18:35.985705Z",
     "iopub.status.idle": "2023-04-15T14:18:36.030574Z",
     "shell.execute_reply": "2023-04-15T14:18:36.029349Z"
    },
    "papermill": {
     "duration": 0.05773,
     "end_time": "2023-04-15T14:18:36.033843",
     "exception": false,
     "start_time": "2023-04-15T14:18:35.976113",
     "status": "completed"
    },
    "tags": []
   },
   "outputs": [],
   "source": [
    "gujarati_sentences = [gujarati_sentences[i] for i in valid_sentence_indicies]\n",
    "english_sentences = [english_sentences[i] for i in valid_sentence_indicies]"
   ]
  },
  {
   "cell_type": "markdown",
   "id": "7b0081e1",
   "metadata": {
    "papermill": {
     "duration": 0.0079,
     "end_time": "2023-04-15T14:18:36.050503",
     "exception": false,
     "start_time": "2023-04-15T14:18:36.042603",
     "status": "completed"
    },
    "tags": []
   },
   "source": [
    "# Making Dataset out of the final choosen English and Gujarati Sentences"
   ]
  },
  {
   "cell_type": "code",
   "execution_count": 15,
   "id": "0275874a",
   "metadata": {
    "execution": {
     "iopub.execute_input": "2023-04-15T14:18:36.068591Z",
     "iopub.status.busy": "2023-04-15T14:18:36.068149Z",
     "iopub.status.idle": "2023-04-15T14:18:36.075283Z",
     "shell.execute_reply": "2023-04-15T14:18:36.074025Z"
    },
    "papermill": {
     "duration": 0.019073,
     "end_time": "2023-04-15T14:18:36.077742",
     "exception": false,
     "start_time": "2023-04-15T14:18:36.058669",
     "status": "completed"
    },
    "tags": []
   },
   "outputs": [],
   "source": [
    "from torch.utils.data import Dataset, DataLoader\n",
    "\n",
    "class TextDataset(Dataset):\n",
    "\n",
    "    def __init__(self, english_sentences, gujarati_sentences):\n",
    "        self.english_sentences = english_sentences\n",
    "        self.gujarati_sentences = gujarati_sentences\n",
    "\n",
    "    def __len__(self):\n",
    "        return len(self.english_sentences)\n",
    "\n",
    "    def __getitem__(self, idx):\n",
    "        return self.english_sentences[idx], self.gujarati_sentences[idx]"
   ]
  },
  {
   "cell_type": "code",
   "execution_count": 16,
   "id": "6e850607",
   "metadata": {
    "execution": {
     "iopub.execute_input": "2023-04-15T14:18:36.097642Z",
     "iopub.status.busy": "2023-04-15T14:18:36.096607Z",
     "iopub.status.idle": "2023-04-15T14:18:36.101753Z",
     "shell.execute_reply": "2023-04-15T14:18:36.100848Z"
    },
    "papermill": {
     "duration": 0.017155,
     "end_time": "2023-04-15T14:18:36.104239",
     "exception": false,
     "start_time": "2023-04-15T14:18:36.087084",
     "status": "completed"
    },
    "tags": []
   },
   "outputs": [],
   "source": [
    "dataset = TextDataset(english_sentences, gujarati_sentences)"
   ]
  },
  {
   "cell_type": "code",
   "execution_count": 17,
   "id": "fd3f0525",
   "metadata": {
    "execution": {
     "iopub.execute_input": "2023-04-15T14:18:36.122975Z",
     "iopub.status.busy": "2023-04-15T14:18:36.122231Z",
     "iopub.status.idle": "2023-04-15T14:18:36.129870Z",
     "shell.execute_reply": "2023-04-15T14:18:36.128694Z"
    },
    "papermill": {
     "duration": 0.019589,
     "end_time": "2023-04-15T14:18:36.132291",
     "exception": false,
     "start_time": "2023-04-15T14:18:36.112702",
     "status": "completed"
    },
    "tags": []
   },
   "outputs": [
    {
     "data": {
      "text/plain": [
       "('It was plain that their intensive study of the Scriptures over their five months of training had reached their heart and motivated them to share with others what they had learned.',\n",
       " 'પાંચ મહિનાના કોર્સમાં પોતે જે કંઈ શીખ્યો, એ એક વિદ્યાર્થીએ પોતાના નાના ભાઈને જણાવ્યું.')"
      ]
     },
     "execution_count": 17,
     "metadata": {},
     "output_type": "execute_result"
    }
   ],
   "source": [
    "dataset[3]"
   ]
  },
  {
   "cell_type": "code",
   "execution_count": 18,
   "id": "8e9c8a38",
   "metadata": {
    "execution": {
     "iopub.execute_input": "2023-04-15T14:18:36.151927Z",
     "iopub.status.busy": "2023-04-15T14:18:36.151039Z",
     "iopub.status.idle": "2023-04-15T14:18:36.211433Z",
     "shell.execute_reply": "2023-04-15T14:18:36.209815Z"
    },
    "papermill": {
     "duration": 0.073328,
     "end_time": "2023-04-15T14:18:36.214547",
     "exception": false,
     "start_time": "2023-04-15T14:18:36.141219",
     "status": "completed"
    },
    "tags": []
   },
   "outputs": [
    {
     "name": "stdout",
     "output_type": "stream",
     "text": [
      "[('Are you doing online transactions?', 'Kunwar explains:', 'A passenger train is sitting at a station.', 'It was plain that their intensive study of the Scriptures over their five months of training had reached their heart and motivated them to share with others what they had learned.', 'Jesus Christ is overseeing the greatest preaching campaign in history', 'The Moskals immediately included the reading of the Harp book in their regular Bible - reading sessions.', 'Gas lasers.', 'Then the job.', 'Australia announce ODI squad for India series', 'This was another topping.'), ('ઓનલાઈન ટ્રાન્ઝેક્શન કરી શકાય?', 'કુરાન તે વર્ણવે છે:', 'એક પેસેન્જર ટ્રેન સ્ટેશન પર બેઠેલું છે.', 'પાંચ મહિનાના કોર્સમાં પોતે જે કંઈ શીખ્યો, એ એક વિદ્યાર્થીએ પોતાના નાના ભાઈને જણાવ્યું.', 'આજે પૃથ્વી પર થઈ રહેલા મહાન પ્રચાર કાર્યની ઈસુ દેખરેખ રાખે છે', 'મૉસ્કેલ કુટુંબે બાઇબલ સાથે સાથે એ પુસ્તક પણ વાંચવાનું શરૂ કરી દીધું.', 'ગેસ લેસર્સ.', 'પછી તો કામ જ કામ છે.', 'ઓસ્ટ્રેલિયા સામેની વનડે શ્રેણી માટે ટીમ ઈન્ડિયાની જાહેરાત', 'આ બીજો મોટો ધડાકો હતો.')]\n",
      "[('Rehab and relapse', 'There are various options available:', 'On the lines of last years Howdy-Modi event in Houston, US President Donald Trump will address a similar event in PM Modis home state of Gujarat when he visits India in the last week of February.', 'The results are as follow:', 'His father was a lecturer in physics and mathematics.', 'This is the safest and efficient way.', 'Why change?', \"St. Andrew's Church\", 'Lord Ganesha is worshiped on this day.', 'He expected that.'), ('પુનઃગઠન અને ફડચો', 'વિવિધ વૈકલ્પિક રસ્તાઓ છે:', 'આગામી ફેબ્રુઆરીમાં ડોનાલ્ડ ટ્રમ્પની સંભવિત ભારત યાત્રા વખતે વડાપ્રધાન મોદીનાં હોમ સ્ટેટ ગુજરાતનાં સૌથી મોટા શહેર અમદાવાદ ખાતે હાઉડી મોદી જેવો કાર્યક્રમ યોજાય અને તેમાં વડાપ્રધાન મોદી પોતે હાજર રહે તેવી શક્યતા છે.', 'પરિણામ નીચે પ્રમાણે છે.', 'તેમના પિતા ગણિત અને ભૌતિકશાસ્ત્રના પ્રોફેસર હતાં.', 'તે આ પદ્ધતિ સૌથી વિશ્વસનીય અને અસરકારક છે.', 'શા માટે બદલાતી રહે છે?', 'લક્ઝરી સેન્ટ એન્ડ્રુ માતાનો ચર્ચ', 'આ દિવસે ભગવાન ગણેશની પૂજાનું વધારે મહત્ત્વ છે.', 'તેણે જે ધાર્યું હતું.')]\n",
      "[('Would Jesus use folklore to warn us about the coming end of this system of things?', 'A man walks out of a colorful train onto a platform.', 'at least at the initial stages.', 'Jesus did not let matters go at that.', 'Every life is special.', 'Add the capsicum, tomatoes and salt.', 'And surprise!', 'will it happen?', 'htc mobile phones', 'They are accused of committing violence in Delhi, damaging public property and injuring policemen.'), ('આ દુષ્ટ જગતના અંતની ચેતવણી આપવા, શું ઈસુ એક બનાવટી વાર્તાનો ઉપયોગ કરે?', 'એક માણસ પ્લેટફોર્મ પર એક રંગીન ટ્રેન બહાર લઈ જશે.', 'ઓછામાં ઓછા પ્રથમ તબક્કે', 'આમ કહ્યા પછી ઈસુ બેસી રહ્યા નહિ.', 'દરેક જીવની પોતાની એક અલગ ખાસિયત છે.', 'કેચઅપ ભરો, મીઠું અને મરી ઉમેરો.', 'અને આશ્ચર્ય!', 'તે થાય છે?', 'એચટીસી ફોન્સ', 'જેમના પર દિલ્હીમાં હિંસા કરવા, જાહેર સંપત્તિને નુકસાન પહોંચાડવા અને પોલીસકર્મીઓને ઈજા પહોંચાડવાના આરોપ છે.')]\n",
      "[('Its not always possible, but we try.', 'Orange Rose', 'He also lost his memory for some time.', 'Wearing comfortable shoes that fit well can prevent many foot ailments.', 'Then grind them.', 'She then worked as a translator at a Bangalore recording company.', 'But everyone starting out on a new course in life has a limited amount of knowledge.', 'Names are named.', 'Congress lawmakers protested in the Parliament premises, raising slogans and waving placards, against the Modi government.', 'They were just not present.'), ('તે હંમેશા કામ કરતું નથી, પરંતુ અમે સખત પ્રયત્નો કરીએ છીએ.', 'ઓરેન્જ ઓરા', 'થોડા સમય માટે તેની યાદશક્તિ પણ જતી રહી હતી.', 'આરામદાયક પગરખાં પહેરવા જે યોગ્ય છે તે ઘણા પગની બિમારીઓને અટકાવી શકે છે.', 'પછી તેમને ચડાવવું.', 'આ પહેલાં તેઓ બેંગલુરુ રેકોર્ડિંગ કંપનીમાં ટ્રાન્સલેટર તરીકે કાર્ય કરતી હતી.', 'પણ ચિંતા ન કરો, કેમ કે મોટા ભાગે પરમેશ્વર વિષે શીખવાની શરૂઆત કરનારને પહેલ - વહેલા તો થોડું જ જ્ઞાન હોય છે.', 'નામે ય એવાં પાડ્યાં છે.', 'સંસદ પરિસરમાં વિપક્ષોએ સંગઠિત બનીને મોદી અને સરકાર વિરૂદ્ધ સૂત્રો પોકાર્યા હતા.', 'તેઓ ફક્ત અસ્તિત્વ ન હતું.')]\n",
      "[('Right timing', 'Limits of superstition', 'So, two categories will be part of day group, two categories will be part of night group and we will like to see how it is performing in the model.', 'He was given man of the match award.', 'I was awestruck.', 'But one thing is important when you move towards big changes, you will face hurdles.', 'Thats what triggered the fire.', 'Prime Minister Narendra Modi thanked the people of Uttarakhand for BJPs victory.', 'Why do you go on living?', 'How today almost all the families are connected to the banking facility'), ('યોગ્ય ટાઈમિંગ', 'આસ્તિકવાદની મર્યાદાઓ', 'તેથી, બે કેટેગરીઝ દિવસ જૂથનો ભાગ બનશે, બે કેટેગરીઝ રાત્રી જૂથનો ભાગ હશે અને આપણે તે જોવા માંગીએ છીએ કે તે મોડેલમાં કેવી રીતે પ્રદર્શન કરે છે.', 'તેને મેન ઓફ ધ મેચનો એવોર્ડ આપવામાં આવ્યો હતો.', 'હું અચંબીત હતી.', 'પણ એક વાત મહત્વની છે, કે જયારે તમે આટલું મોટું પરિવર્તન લાવો છો, તો અડચણો આવે છે, ગતિ અટકી જાય છે, પરંતુ આ સરકારની કાર્યશૈલી જૂઓ.', 'જેના કારણે આ આગ લાગી હતી.', 'પ્રચંડ વિજયથી ભાજપને જિતાડવા માટે વડા પ્રધાન નરેન્દ્ર મોદીએ દિલ્હીનાં લોકોનો આભાર માન્યો હતો.', 'કેમ જીવશે ?', 'એવું શા માટે થયું કે આજે દેશનો લગભગ દરેક પરિવાર બેન્કિંગ સેવા સાથે જોડાઈ ગયો છે.')]\n"
     ]
    }
   ],
   "source": [
    "batch_size = 10\n",
    "train_loader = DataLoader(dataset, batch_size)\n",
    "iterator = iter(train_loader)\n",
    "\n",
    "for batch_num, batch in enumerate(iterator):\n",
    "    print(batch)\n",
    "    if batch_num > 3:\n",
    "        break"
   ]
  },
  {
   "cell_type": "markdown",
   "id": "13efe4da",
   "metadata": {
    "papermill": {
     "duration": 0.008131,
     "end_time": "2023-04-15T14:18:36.231297",
     "exception": false,
     "start_time": "2023-04-15T14:18:36.223166",
     "status": "completed"
    },
    "tags": []
   },
   "source": [
    "# **Tokenization Sentences**"
   ]
  },
  {
   "cell_type": "code",
   "execution_count": 19,
   "id": "b22f2bfd",
   "metadata": {
    "execution": {
     "iopub.execute_input": "2023-04-15T14:18:36.251169Z",
     "iopub.status.busy": "2023-04-15T14:18:36.250342Z",
     "iopub.status.idle": "2023-04-15T14:18:36.257212Z",
     "shell.execute_reply": "2023-04-15T14:18:36.256037Z"
    },
    "papermill": {
     "duration": 0.019463,
     "end_time": "2023-04-15T14:18:36.259720",
     "exception": false,
     "start_time": "2023-04-15T14:18:36.240257",
     "status": "completed"
    },
    "tags": []
   },
   "outputs": [],
   "source": [
    "def tokenize(sentence, language_to_index, start_token=True, end_token=True):\n",
    "    sentence_word_indicies = [language_to_index[token] for token in list(sentence)]\n",
    "    if start_token:\n",
    "        sentence_word_indicies.insert(0, language_to_index[START_TOKEN])\n",
    "    if end_token:\n",
    "        sentence_word_indicies.append(language_to_index[END_TOKEN])\n",
    "    for _ in range(len(sentence_word_indicies), max_sequence_length):\n",
    "        sentence_word_indicies.append(language_to_index[PADDING_TOKEN])\n",
    "    return torch.tensor(sentence_word_indicies)"
   ]
  },
  {
   "cell_type": "code",
   "execution_count": 20,
   "id": "47054eae",
   "metadata": {
    "execution": {
     "iopub.execute_input": "2023-04-15T14:18:36.279144Z",
     "iopub.status.busy": "2023-04-15T14:18:36.277946Z",
     "iopub.status.idle": "2023-04-15T14:18:36.324133Z",
     "shell.execute_reply": "2023-04-15T14:18:36.322660Z"
    },
    "papermill": {
     "duration": 0.059091,
     "end_time": "2023-04-15T14:18:36.327287",
     "exception": false,
     "start_time": "2023-04-15T14:18:36.268196",
     "status": "completed"
    },
    "tags": []
   },
   "outputs": [],
   "source": [
    "eng_tokenized, gu_tokenized = [], []\n",
    "for sentence_num in range(batch_size):\n",
    "    eng_sentence, gu_sentence = batch[0][sentence_num], batch[1][sentence_num]\n",
    "    eng_tokenized.append( tokenize(eng_sentence, english_to_index, start_token=False, end_token=False) )\n",
    "    gu_tokenized.append( tokenize(gu_sentence, gujarati_to_index, start_token=True, end_token=True) )\n",
    "eng_tokenized = torch.stack(eng_tokenized)\n",
    "gu_tokenized = torch.stack(gu_tokenized)"
   ]
  },
  {
   "cell_type": "code",
   "execution_count": 21,
   "id": "57d3a92d",
   "metadata": {
    "execution": {
     "iopub.execute_input": "2023-04-15T14:18:36.346879Z",
     "iopub.status.busy": "2023-04-15T14:18:36.345713Z",
     "iopub.status.idle": "2023-04-15T14:18:36.365972Z",
     "shell.execute_reply": "2023-04-15T14:18:36.364406Z"
    },
    "papermill": {
     "duration": 0.032965,
     "end_time": "2023-04-15T14:18:36.368672",
     "exception": false,
     "start_time": "2023-04-15T14:18:36.335707",
     "status": "completed"
    },
    "tags": []
   },
   "outputs": [
    {
     "data": {
      "text/plain": [
       "tensor([[  0,  74,  94,  ..., 102, 102, 102],\n",
       "        [  0,  34,  80,  ..., 102, 102, 102],\n",
       "        [  0,  64,  91,  ..., 102, 102, 102],\n",
       "        ...,\n",
       "        [  0,  69,  96,  ..., 102, 102, 102],\n",
       "        [  0,  49,  91,  ..., 102, 102, 102],\n",
       "        [  0,  44,  77,  ..., 102, 102, 102]])"
      ]
     },
     "execution_count": 21,
     "metadata": {},
     "output_type": "execute_result"
    }
   ],
   "source": [
    "gu_tokenized"
   ]
  },
  {
   "cell_type": "code",
   "execution_count": 22,
   "id": "4061790a",
   "metadata": {
    "execution": {
     "iopub.execute_input": "2023-04-15T14:18:36.388708Z",
     "iopub.status.busy": "2023-04-15T14:18:36.388307Z",
     "iopub.status.idle": "2023-04-15T14:18:36.397756Z",
     "shell.execute_reply": "2023-04-15T14:18:36.396370Z"
    },
    "papermill": {
     "duration": 0.022831,
     "end_time": "2023-04-15T14:18:36.400085",
     "exception": false,
     "start_time": "2023-04-15T14:18:36.377254",
     "status": "completed"
    },
    "tags": []
   },
   "outputs": [
    {
     "data": {
      "text/plain": [
       "tensor([[50, 73, 71,  ..., 95, 95, 95],\n",
       "        [44, 73, 77,  ..., 95, 95, 95],\n",
       "        [51, 79, 13,  ..., 95, 95, 95],\n",
       "        ...,\n",
       "        [48, 82, 73,  ..., 95, 95, 95],\n",
       "        [55, 72, 89,  ..., 95, 95, 95],\n",
       "        [40, 79, 87,  ..., 95, 95, 95]])"
      ]
     },
     "execution_count": 22,
     "metadata": {},
     "output_type": "execute_result"
    }
   ],
   "source": [
    "eng_tokenized"
   ]
  }
 ],
 "metadata": {
  "kernelspec": {
   "display_name": "Python 3",
   "language": "python",
   "name": "python3"
  },
  "language_info": {
   "codemirror_mode": {
    "name": "ipython",
    "version": 3
   },
   "file_extension": ".py",
   "mimetype": "text/x-python",
   "name": "python",
   "nbconvert_exporter": "python",
   "pygments_lexer": "ipython3",
   "version": "3.7.12"
  },
  "papermill": {
   "default_parameters": {},
   "duration": 33.188325,
   "end_time": "2023-04-15T14:18:37.433365",
   "environment_variables": {},
   "exception": null,
   "input_path": "__notebook__.ipynb",
   "output_path": "__notebook__.ipynb",
   "parameters": {},
   "start_time": "2023-04-15T14:18:04.245040",
   "version": "2.4.0"
  }
 },
 "nbformat": 4,
 "nbformat_minor": 5
}
